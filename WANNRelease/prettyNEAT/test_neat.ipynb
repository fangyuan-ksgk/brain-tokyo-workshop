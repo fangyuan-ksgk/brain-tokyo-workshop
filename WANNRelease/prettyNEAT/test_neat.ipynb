{
 "cells": [
  {
   "cell_type": "code",
   "execution_count": 3,
   "metadata": {},
   "outputs": [
    {
     "name": "stdout",
     "output_type": "stream",
     "text": [
      "[***]\tFitness: [720.91]\n"
     ]
    }
   ],
   "source": [
    "!python neat_test.py\n"
   ]
  },
  {
   "cell_type": "code",
   "execution_count": 4,
   "metadata": {},
   "outputs": [
    {
     "name": "stdout",
     "output_type": "stream",
     "text": [
      "Node order Q: [0 1 3 4 5 2]\n",
      "\n",
      "Weight Matrix:\n",
      "[[0.  0.  0.  0.5 0.  0. ]\n",
      " [0.  0.  0.  0.3 0.  0. ]\n",
      " [0.  0.  0.  0.  0.  0. ]\n",
      " [0.  0.  0.  0.  1.  1. ]\n",
      " [0.  0.  0.4 0.  0.  0. ]\n",
      " [0.  0.  0.1 0.  0.  0. ]]\n"
     ]
    }
   ],
   "source": [
    "from neat_src.ann import getNodeOrder\n",
    "\n",
    "import numpy as np\n",
    "\n",
    "# Create a more complex network with multiple hidden nodes and connections\n",
    "nodeG = np.array([\n",
    "    [5, 6, 7, 8, 9, 10],     # Node IDs: 1 input, 1 bias, 1 output, 3 hidden\n",
    "    [1, 4, 2, 3, 3, 3],      # Node types: 5=input, 6=bias, 7=output, rest hidden\n",
    "    [1, 1, 1, 1, 1, 1]       # Activation functions (1 = linear)\n",
    "])\n",
    "\n",
    "connG = np.array([\n",
    "    [1, 2, 3, 4, 5, 6],      # Innovation numbers\n",
    "    [5, 6, 8, 9, 8, 10],     # Source nodes\n",
    "    [8, 8, 9, 7, 10, 7],     # Destination nodes\n",
    "    [0.5, 0.3, 0.2, 0.4, 0.6, 0.1],  # Weights\n",
    "    [1, 1, 1, 1, 1, 1]       # All enabled\n",
    "])\n",
    "\n",
    "# Test the function\n",
    "Q, wMat = getNodeOrder(nodeG, connG)\n",
    "print(\"Node order Q:\", Q)\n",
    "print(\"\\nWeight Matrix:\")\n",
    "print(wMat)"
   ]
  },
  {
   "cell_type": "code",
   "execution_count": 6,
   "metadata": {},
   "outputs": [
    {
     "data": {
      "text/plain": [
       "array([0., 0., 3., 1., 2., 2.])"
      ]
     },
     "execution_count": 6,
     "metadata": {},
     "output_type": "execute_result"
    }
   ],
   "source": [
    "from neat_src.ann import getLayer \n",
    "\n",
    "getLayer(wMat)"
   ]
  },
  {
   "cell_type": "code",
   "execution_count": 1,
   "metadata": {},
   "outputs": [
    {
     "name": "stdout",
     "output_type": "stream",
     "text": [
      "1\n",
      "alice\n",
      "True\n"
     ]
    }
   ],
   "source": [
    "# Demonstration\n",
    "class Individual:\n",
    "    def __init__(self, name):\n",
    "        self.name = name\n",
    "        self.species = None\n",
    "\n",
    "# Create lists\n",
    "population = [Individual(\"bob\")]\n",
    "species_members = []\n",
    "\n",
    "# Append the same individual to species_members\n",
    "species_members.append(population[0])\n",
    "\n",
    "# Modify the individual through either reference\n",
    "population[0].species = 1\n",
    "print(species_members[0].species)  # Will print 1\n",
    "species_members[0].name = \"alice\"\n",
    "print(population[0].name)  # Will print \"alice\"\n",
    "\n",
    "# Check if they're the same object in memory\n",
    "print(population[0] is species_members[0])  # Will print True"
   ]
  },
  {
   "cell_type": "code",
   "execution_count": null,
   "metadata": {},
   "outputs": [],
   "source": []
  }
 ],
 "metadata": {
  "kernelspec": {
   "display_name": "volleyball",
   "language": "python",
   "name": "python3"
  },
  "language_info": {
   "codemirror_mode": {
    "name": "ipython",
    "version": 3
   },
   "file_extension": ".py",
   "mimetype": "text/x-python",
   "name": "python",
   "nbconvert_exporter": "python",
   "pygments_lexer": "ipython3",
   "version": "3.9.21"
  }
 },
 "nbformat": 4,
 "nbformat_minor": 2
}
