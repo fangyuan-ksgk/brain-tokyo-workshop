{
 "cells": [
  {
   "cell_type": "code",
   "execution_count": 3,
   "metadata": {},
   "outputs": [
    {
     "name": "stdout",
     "output_type": "stream",
     "text": [
      "[***]\tFitness: [720.91]\n"
     ]
    }
   ],
   "source": [
    "!python neat_test.py\n"
   ]
  },
  {
   "cell_type": "code",
   "execution_count": 11,
   "metadata": {},
   "outputs": [
    {
     "ename": "IndexError",
     "evalue": "index 5 is out of bounds for axis 0 with size 3",
     "output_type": "error",
     "traceback": [
      "\u001b[0;31m---------------------------------------------------------------------------\u001b[0m",
      "\u001b[0;31mIndexError\u001b[0m                                Traceback (most recent call last)",
      "Cell \u001b[0;32mIn[11], line 20\u001b[0m\n\u001b[1;32m     11\u001b[0m connG \u001b[38;5;241m=\u001b[39m np\u001b[38;5;241m.\u001b[39marray([\n\u001b[1;32m     12\u001b[0m     [\u001b[38;5;241m1\u001b[39m],           \u001b[38;5;66;03m# Innovation numbers\u001b[39;00m\n\u001b[1;32m     13\u001b[0m     [\u001b[38;5;241m5\u001b[39m],           \u001b[38;5;66;03m# Source node (should connect from ID 5)\u001b[39;00m\n\u001b[0;32m   (...)\u001b[0m\n\u001b[1;32m     16\u001b[0m     [\u001b[38;5;241m1\u001b[39m]            \u001b[38;5;66;03m# All enabled\u001b[39;00m\n\u001b[1;32m     17\u001b[0m ])\n\u001b[1;32m     19\u001b[0m \u001b[38;5;66;03m# Test the function\u001b[39;00m\n\u001b[0;32m---> 20\u001b[0m Q, wMat \u001b[38;5;241m=\u001b[39m \u001b[43mgetNodeOrder\u001b[49m\u001b[43m(\u001b[49m\u001b[43mnodeG\u001b[49m\u001b[43m,\u001b[49m\u001b[43m \u001b[49m\u001b[43mconnG\u001b[49m\u001b[43m)\u001b[49m\n\u001b[1;32m     21\u001b[0m \u001b[38;5;28mprint\u001b[39m(\u001b[38;5;124m\"\u001b[39m\u001b[38;5;124mNode order Q:\u001b[39m\u001b[38;5;124m\"\u001b[39m, Q)\n\u001b[1;32m     22\u001b[0m \u001b[38;5;28mprint\u001b[39m(\u001b[38;5;124m\"\u001b[39m\u001b[38;5;130;01m\\n\u001b[39;00m\u001b[38;5;124mWeight Matrix:\u001b[39m\u001b[38;5;124m\"\u001b[39m)\n",
      "File \u001b[0;32m~/Grow/brain-tokyo-workshop/WANNRelease/prettyNEAT/neat_src/ann.py:90\u001b[0m, in \u001b[0;36mgetNodeOrder\u001b[0;34m(nodeG, connG)\u001b[0m\n\u001b[1;32m     84\u001b[0m Q \u001b[38;5;241m+\u001b[39m\u001b[38;5;241m=\u001b[39m nIns\u001b[38;5;241m+\u001b[39mnOuts \u001b[38;5;66;03m# add index to give space for input and output nodes \u001b[39;00m\n\u001b[1;32m     86\u001b[0m Q \u001b[38;5;241m=\u001b[39m np\u001b[38;5;241m.\u001b[39mr_[lookup[:nIns],                  \u001b[38;5;66;03m# Input nodes use original node IDs\u001b[39;00m\n\u001b[1;32m     87\u001b[0m         Q,                              \u001b[38;5;66;03m# Hidden nodes use indices\u001b[39;00m\n\u001b[1;32m     88\u001b[0m         lookup[nIns:nIns\u001b[38;5;241m+\u001b[39mnOuts]]        \u001b[38;5;66;03m# Output nodes use original node IDs\u001b[39;00m\n\u001b[0;32m---> 90\u001b[0m wMat \u001b[38;5;241m=\u001b[39m \u001b[43mwMat\u001b[49m\u001b[43m[\u001b[49m\u001b[43mnp\u001b[49m\u001b[38;5;241;43m.\u001b[39;49m\u001b[43mix_\u001b[49m\u001b[43m(\u001b[49m\u001b[43mQ\u001b[49m\u001b[43m,\u001b[49m\u001b[43mQ\u001b[49m\u001b[43m)\u001b[49m\u001b[43m]\u001b[49m\n\u001b[1;32m     92\u001b[0m \u001b[38;5;28;01mreturn\u001b[39;00m Q, wMat\n",
      "\u001b[0;31mIndexError\u001b[0m: index 5 is out of bounds for axis 0 with size 3"
     ]
    }
   ],
   "source": [
    "from neat_src.ann import getNodeOrder\n",
    "\n",
    "import numpy as np\n",
    "\n",
    "nodeG = np.array([\n",
    "    [5, 7, 9],     # Node IDs (using distinct numbers)\n",
    "    [1, 2, 4],     # Node types: input, output, bias\n",
    "    [1, 1, 1]      # Activation functions (1 = linear)\n",
    "])\n",
    "\n",
    "connG = np.array([\n",
    "    [1],           # Innovation numbers\n",
    "    [5],           # Source node (should connect from ID 5)\n",
    "    [7],           # Destination node (should connect to ID 7)\n",
    "    [0.5],         # Weights\n",
    "    [1]            # All enabled\n",
    "])\n",
    "\n",
    "# Test the function\n",
    "Q, wMat = getNodeOrder(nodeG, connG)\n",
    "print(\"Node order Q:\", Q)\n",
    "print(\"\\nWeight Matrix:\")\n",
    "print(wMat)"
   ]
  },
  {
   "cell_type": "code",
   "execution_count": 25,
   "metadata": {},
   "outputs": [],
   "source": [
    "conn = np.copy(connG)\n",
    "node = np.copy(nodeG)\n",
    "nIns = len(node[0,node[1,:] == 1]) + len(node[0,node[1,:] == 4])\n",
    "nOuts = len(node[0,node[1,:] == 2])\n",
    "\n",
    "# Create connection and initial weight matrices\n",
    "conn[3,conn[4,:]==0] = np.nan # disabled but still connected\n",
    "src  = conn[1,:].astype(int)\n",
    "dest = conn[2,:].astype(int)\n",
    "\n",
    "# A huge assumption here is Node is ordered by input, bias, output, hidden ... \n",
    "reordered_index = np.r_[node[0, node[1, :] ==1], node[0,node[1,:] == 4], node[0,node[1,:] == 2], node[0,node[1,:] == 3]]\n",
    "\n",
    "# Vectorize Implementation \n",
    "src_mask = (src.reshape(-1, 1) == reordered_index.reshape(1, -1)) # (n_conn, n_node)\n",
    "dest_mask = (dest.reshape(-1, 1) == reordered_index.reshape(1, -1))\n",
    "src = (src_mask @ np.arange(len(reordered_index)).reshape(-1, 1)).flatten()  # Convert to 1D\n",
    "dest = (dest_mask @ np.arange(len(reordered_index)).reshape(-1, 1)).flatten()  # Convert to 1D\n",
    "\n",
    "# Create weight matrix (input, output, hidden)\n",
    "wMat = np.zeros((np.shape(node)[1],np.shape(node)[1]))\n",
    "wMat[src,dest] = conn[3,:] # assign weight to the connection\n",
    "\n",
    "# Get connection matrix\n",
    "connMat = wMat[nIns+nOuts:,nIns+nOuts:] # connection weights between hidden nodes\n",
    "connMat[connMat!=0] = 1 # set non-zero weights to 1\n",
    "\n",
    "# Topological Sort of Hidden Nodes\n",
    "edge_in = np.sum(connMat,axis=0) # sum of edges ending with each node\n",
    "Q = np.where(edge_in==0)[0]  # Start with nodes with no incoming connections\n",
    "for i in range(len(connMat)):\n",
    "    if (len(Q) == 0) or (i >= len(Q)):\n",
    "        Q = []\n",
    "        # return False, False # Cycle found, can't sort\n",
    "    edge_out = connMat[Q[i],:]\n",
    "    edge_in  = edge_in - edge_out # Remove nodes' conns from total\n",
    "    nextNodes = np.setdiff1d(np.where(edge_in==0)[0], Q)\n",
    "    Q = np.hstack((Q,nextNodes))\n",
    "\n",
    "    if sum(edge_in) == 0:\n",
    "        break\n",
    "\n",
    "# Add In and outs back and reorder wMat according to sort\n",
    "Q += nIns+nOuts # add index to give space for input and output nodes \n",
    "\n",
    "Q = np.r_[np.arange(nIns),                  # Input nodes use original node IDs\n",
    "        Q,                              # Hidden nodes use indices\n",
    "        np.arange(nIns,nIns+nOuts)]        # Output nodes use original node IDs\n"
   ]
  },
  {
   "cell_type": "code",
   "execution_count": 28,
   "metadata": {},
   "outputs": [
    {
     "data": {
      "text/plain": [
       "array([], shape=(0, 0), dtype=float64)"
      ]
     },
     "execution_count": 28,
     "metadata": {},
     "output_type": "execute_result"
    }
   ],
   "source": [
    "# wMat\n",
    "connMat\n",
    "# reordered_index"
   ]
  },
  {
   "cell_type": "code",
   "execution_count": 31,
   "metadata": {},
   "outputs": [],
   "source": [
    "# Topological Sort of Hidden Nodes\n",
    "edge_in = np.sum(connMat,axis=0) # sum of edges ending with each node\n",
    "Q = np.where(edge_in==0)[0]  # Start with nodes with no incoming connections\n",
    "for i in range(len(connMat)):\n",
    "    if (len(Q) == 0) or (i >= len(Q)):\n",
    "        Q = []\n",
    "        # return False, False # Cycle found, can't sort\n",
    "    edge_out = connMat[Q[i],:]\n",
    "    edge_in  = edge_in - edge_out # Remove nodes' conns from total\n",
    "    nextNodes = np.setdiff1d(np.where(edge_in==0)[0], Q)\n",
    "    Q = np.hstack((Q,nextNodes))\n",
    "\n",
    "    if sum(edge_in) == 0:\n",
    "        break\n",
    "\n",
    "# Add In and outs back and reorder wMat according to sort\n",
    "Q += nIns+nOuts # add index to give space for input and output nodes \n",
    "\n",
    "Q = np.r_[np.arange(nIns),                  # Input nodes use original node IDs\n",
    "        Q,                              # Hidden nodes use indices\n",
    "        np.arange(nIns,nIns+nOuts)]        # Output nodes use original node IDs\n",
    "\n",
    "wMat = wMat[np.ix_(Q,Q)]"
   ]
  },
  {
   "cell_type": "code",
   "execution_count": 32,
   "metadata": {},
   "outputs": [
    {
     "data": {
      "text/plain": [
       "array([[0. , 0. , 0.5],\n",
       "       [0. , 0. , 0. ],\n",
       "       [0. , 0. , 0. ]])"
      ]
     },
     "execution_count": 32,
     "metadata": {},
     "output_type": "execute_result"
    }
   ],
   "source": [
    "wMat"
   ]
  },
  {
   "cell_type": "code",
   "execution_count": null,
   "metadata": {},
   "outputs": [],
   "source": []
  }
 ],
 "metadata": {
  "kernelspec": {
   "display_name": "volleyball",
   "language": "python",
   "name": "python3"
  },
  "language_info": {
   "codemirror_mode": {
    "name": "ipython",
    "version": 3
   },
   "file_extension": ".py",
   "mimetype": "text/x-python",
   "name": "python",
   "nbconvert_exporter": "python",
   "pygments_lexer": "ipython3",
   "version": "3.9.21"
  }
 },
 "nbformat": 4,
 "nbformat_minor": 2
}
