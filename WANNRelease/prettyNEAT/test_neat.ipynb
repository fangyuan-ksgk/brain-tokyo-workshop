{
 "cells": [
  {
   "cell_type": "code",
   "execution_count": 3,
   "metadata": {},
   "outputs": [
    {
     "name": "stdout",
     "output_type": "stream",
     "text": [
      "[***]\tFitness: [720.91]\n"
     ]
    }
   ],
   "source": [
    "!python neat_test.py\n"
   ]
  },
  {
   "cell_type": "code",
   "execution_count": 4,
   "metadata": {},
   "outputs": [
    {
     "name": "stdout",
     "output_type": "stream",
     "text": [
      "Node order Q: [0 1 3 4 5 2]\n",
      "\n",
      "Weight Matrix:\n",
      "[[0.  0.  0.  0.5 0.  0. ]\n",
      " [0.  0.  0.  0.3 0.  0. ]\n",
      " [0.  0.  0.  0.  0.  0. ]\n",
      " [0.  0.  0.  0.  1.  1. ]\n",
      " [0.  0.  0.4 0.  0.  0. ]\n",
      " [0.  0.  0.1 0.  0.  0. ]]\n"
     ]
    }
   ],
   "source": [
    "from neat_src.ann import getNodeOrder\n",
    "\n",
    "import numpy as np\n",
    "\n",
    "# Create a more complex network with multiple hidden nodes and connections\n",
    "nodeG = np.array([\n",
    "    [5, 6, 7, 8, 9, 10],     # Node IDs: 1 input, 1 bias, 1 output, 3 hidden\n",
    "    [1, 4, 2, 3, 3, 3],      # Node types: 5=input, 6=bias, 7=output, rest hidden\n",
    "    [1, 1, 1, 1, 1, 1]       # Activation functions (1 = linear)\n",
    "])\n",
    "\n",
    "connG = np.array([\n",
    "    [1, 2, 3, 4, 5, 6],      # Innovation numbers\n",
    "    [5, 6, 8, 9, 8, 10],     # Source nodes\n",
    "    [8, 8, 9, 7, 10, 7],     # Destination nodes\n",
    "    [0.5, 0.3, 0.2, 0.4, 0.6, 0.1],  # Weights\n",
    "    [1, 1, 1, 1, 1, 1]       # All enabled\n",
    "])\n",
    "\n",
    "# Test the function\n",
    "Q, wMat = getNodeOrder(nodeG, connG)\n",
    "print(\"Node order Q:\", Q)\n",
    "print(\"\\nWeight Matrix:\")\n",
    "print(wMat)"
   ]
  },
  {
   "cell_type": "code",
   "execution_count": 6,
   "metadata": {},
   "outputs": [
    {
     "data": {
      "text/plain": [
       "array([0., 0., 3., 1., 2., 2.])"
      ]
     },
     "execution_count": 6,
     "metadata": {},
     "output_type": "execute_result"
    }
   ],
   "source": [
    "from neat_src.ann import getLayer \n",
    "\n",
    "getLayer(wMat)"
   ]
  },
  {
   "cell_type": "code",
   "execution_count": 1,
   "metadata": {},
   "outputs": [],
   "source": [
    "from neat_src.ind import Ind \n",
    "\n",
    "import numpy as np\n",
    "\n",
    "# Create a more complex network with multiple hidden nodes and connections\n",
    "nodeG = np.array([\n",
    "    [5, 6, 7, 8, 9, 10],     # Node IDs: 1 input, 1 bias, 1 output, 3 hidden\n",
    "    [1, 4, 2, 3, 3, 3],      # Node types: 5=input, 6=bias, 7=output, rest hidden\n",
    "    [1, 1, 1, 1, 1, 1]       # Activation functions (1 = linear)\n",
    "])\n",
    "\n",
    "connG = np.array([\n",
    "    [1, 2, 3, 4, 5, 6],      # Innovation numbers\n",
    "    [5, 6, 8, 9, 8, 10],     # Source nodes\n",
    "    [8, 8, 9, 7, 10, 7],     # Destination nodes\n",
    "    [0.5, 0.3, 0.2, 0.4, 0.6, 0.1],  # Weights\n",
    "    [1, 1, 1, 1, 1, 1]       # All enabled\n",
    "])\n",
    "\n",
    "individual = Ind(connG, nodeG)"
   ]
  },
  {
   "cell_type": "code",
   "execution_count": 5,
   "metadata": {},
   "outputs": [],
   "source": [
    "# individual.mutAddConn(connG, nodeG, None, 1, 0.5) # takes forever -- likely into infinite loop ... "
   ]
  },
  {
   "cell_type": "code",
   "execution_count": 4,
   "metadata": {},
   "outputs": [
    {
     "name": "stdout",
     "output_type": "stream",
     "text": [
      "Sort node with topological sort\n",
      "-- sorting complete\n",
      "Get hidden layer number\n",
      "-- hidden layer number complete\n",
      "Assign layer number to each node\n"
     ]
    }
   ],
   "source": [
    "from neat_src.ann import getNodeOrder, getLayer\n",
    "newConnId = connG[0, -1] + 1\n",
    "\n",
    "nIns = len(nodeG[0,nodeG[1,:] == 1]) + len(nodeG[0,nodeG[1,:] == 4])\n",
    "nOuts = len(nodeG[0,nodeG[1,:] == 2])\n",
    "print(\"Sort node with topological sort\")\n",
    "order, wMat = getNodeOrder(nodeG, connG)   # Topological Sort of Network\n",
    "print(\"-- sorting complete\")\n",
    "hMat = wMat[nIns:-nOuts,nIns:-nOuts]\n",
    "\n",
    "\n",
    "print(\"Get hidden layer number\")\n",
    "hLay = getLayer(hMat)+1 # hidden node layer number\n",
    "print(\"-- hidden layer number complete\")\n",
    "\n",
    "print(\"Assign layer number to each node\")\n",
    "# To avoid recurrent connections nodes are sorted into layers, and connections are only allowed from lower to higher layers\n",
    "if len(hLay) > 0:\n",
    "    lastLayer = max(hLay)+1 # output node layer number\n",
    "else:\n",
    "    lastLayer = 1 # output node layer number \n",
    "    \n",
    "L = np.r_[np.zeros(nIns), hLay, np.full((nOuts),lastLayer) ] # Assign layer number to each node\n",
    "\n",
    "nodeKey = np.c_[nodeG[0,order], L] # node key: node id and layer number (ordered by layer number)\n",
    "\n",
    "sources = np.random.permutation(len(nodeKey)) # node index permutation\n",
    "for src in sources:\n",
    "    srcLayer = nodeKey[src,1] # take source node according to index\n",
    "    dest = np.where(nodeKey[:,1] > srcLayer)[0] # pick all nodes in higher layers\n",
    "    \n",
    "    # Finding already existing connections:\n",
    "    #   ) take all connection genes with this source (connG[1,:])\n",
    "    #   ) take the destination of those genes (connG[2,:])\n",
    "    #   ) convert to nodeKey index (Gotta be a better numpy way...)   \n",
    "    srcIndx = np.where(connG[1,:]==nodeKey[src,0])[0]\n",
    "    exist = connG[2,srcIndx]\n",
    "    existKey = []\n",
    "    for iExist in exist:\n",
    "        existKey.append(np.where(nodeKey[:,0]==iExist)[0])\n",
    "        dest = np.setdiff1d(dest,existKey) # Remove existing connections"
   ]
  },
  {
   "cell_type": "code",
   "execution_count": 5,
   "metadata": {},
   "outputs": [
    {
     "data": {
      "text/plain": [
       "[]"
      ]
     },
     "execution_count": 5,
     "metadata": {},
     "output_type": "execute_result"
    }
   ],
   "source": [
    "existKey"
   ]
  },
  {
   "cell_type": "code",
   "execution_count": 11,
   "metadata": {},
   "outputs": [
    {
     "data": {
      "text/plain": [
       "array([[ 1. ,  2. ,  3. ,  4. ,  5. ,  6. ],\n",
       "       [ 5. ,  6. ,  8. ,  9. ,  8. , 10. ],\n",
       "       [ 8. ,  8. ,  9. ,  7. , 10. ,  7. ],\n",
       "       [ 0.5,  0.3,  0.2,  0.4,  0.6,  0.1],\n",
       "       [ 1. ,  1. ,  1. ,  1. ,  1. ,  1. ]])"
      ]
     },
     "execution_count": 11,
     "metadata": {},
     "output_type": "execute_result"
    }
   ],
   "source": [
    "connG"
   ]
  },
  {
   "cell_type": "code",
   "execution_count": 9,
   "metadata": {},
   "outputs": [
    {
     "data": {
      "text/plain": [
       "array([[0., 0., 0.],\n",
       "       [0., 0., 1.],\n",
       "       [1., 0., 0.]])"
      ]
     },
     "execution_count": 9,
     "metadata": {},
     "output_type": "execute_result"
    }
   ],
   "source": [
    "hMat"
   ]
  },
  {
   "cell_type": "code",
   "execution_count": 13,
   "metadata": {},
   "outputs": [
    {
     "data": {
      "text/plain": [
       "array([0., 0., 0.])"
      ]
     },
     "execution_count": 13,
     "metadata": {},
     "output_type": "execute_result"
    }
   ],
   "source": [
    "wMat[np.isnan(wMat)] = 0  \n",
    "wMat[wMat!=0]=1\n",
    "nNode = np.shape(wMat)[0]\n",
    "layer = np.zeros((nNode))\n",
    "\n",
    "layer"
   ]
  },
  {
   "cell_type": "code",
   "execution_count": 16,
   "metadata": {},
   "outputs": [
    {
     "data": {
      "text/plain": [
       "array([[0., 0., 1.],\n",
       "       [0., 0., 0.],\n",
       "       [0., 1., 0.]])"
      ]
     },
     "execution_count": 16,
     "metadata": {},
     "output_type": "execute_result"
    }
   ],
   "source": [
    "wMat.T"
   ]
  },
  {
   "cell_type": "code",
   "execution_count": 22,
   "metadata": {},
   "outputs": [
    {
     "name": "stdout",
     "output_type": "stream",
     "text": [
      "Get layer number for each node\n",
      "srcLayer:  [[0. 0. 0.]\n",
      " [0. 0. 0.]\n",
      " [0. 0. 0.]]\n",
      "Layer:  [1. 1. 1.]\n",
      "srcLayer:  [[0. 0. 1.]\n",
      " [0. 0. 0.]\n",
      " [0. 1. 0.]]\n",
      "Layer:  [2. 1. 2.]\n",
      "srcLayer:  [[0. 0. 2.]\n",
      " [0. 0. 0.]\n",
      " [0. 1. 0.]]\n",
      "Layer:  [3. 1. 2.]\n",
      "srcLayer:  [[0. 0. 2.]\n",
      " [0. 0. 0.]\n",
      " [0. 1. 0.]]\n",
      "Layer:  [3. 1. 2.]\n"
     ]
    }
   ],
   "source": [
    "wMat = hMat \n",
    "\n",
    "print(\"Get layer number for each node\")\n",
    "wMat[np.isnan(wMat)] = 0  \n",
    "wMat[wMat!=0]=1\n",
    "nNode = np.shape(wMat)[0]\n",
    "layer = np.zeros((nNode))\n",
    "\n",
    "while True: \n",
    "    prevOrder = np.copy(layer)\n",
    "    srcLayer = (wMat.T * layer[np.newaxis,:])\n",
    "    layer = np.max(srcLayer,axis=1)+1\n",
    "    print(\"srcLayer: \", srcLayer)\n",
    "    print(\"Layer: \", layer)\n",
    "    \n",
    "    if np.array_equal(prevOrder,layer):\n",
    "        break\n",
    "    "
   ]
  },
  {
   "cell_type": "code",
   "execution_count": 17,
   "metadata": {},
   "outputs": [
    {
     "data": {
      "text/plain": [
       "array([[0., 0., 0.]])"
      ]
     },
     "execution_count": 17,
     "metadata": {},
     "output_type": "execute_result"
    }
   ],
   "source": [
    "layer[np.newaxis, :]"
   ]
  },
  {
   "cell_type": "code",
   "execution_count": 20,
   "metadata": {},
   "outputs": [
    {
     "data": {
      "text/plain": [
       "array([0., 0., 0.])"
      ]
     },
     "execution_count": 20,
     "metadata": {},
     "output_type": "execute_result"
    }
   ],
   "source": [
    "srcLayer = (wMat.T * layer[np.newaxis, :])\n",
    "np.max(srcLayer, axis=1)"
   ]
  },
  {
   "cell_type": "code",
   "execution_count": null,
   "metadata": {},
   "outputs": [],
   "source": []
  }
 ],
 "metadata": {
  "kernelspec": {
   "display_name": "volleyball",
   "language": "python",
   "name": "python3"
  },
  "language_info": {
   "codemirror_mode": {
    "name": "ipython",
    "version": 3
   },
   "file_extension": ".py",
   "mimetype": "text/x-python",
   "name": "python",
   "nbconvert_exporter": "python",
   "pygments_lexer": "ipython3",
   "version": "3.9.21"
  }
 },
 "nbformat": 4,
 "nbformat_minor": 2
}
