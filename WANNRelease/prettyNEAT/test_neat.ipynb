{
 "cells": [
  {
   "cell_type": "code",
   "execution_count": 3,
   "metadata": {},
   "outputs": [
    {
     "name": "stdout",
     "output_type": "stream",
     "text": [
      "[***]\tFitness: [720.91]\n"
     ]
    }
   ],
   "source": [
    "!python neat_test.py\n"
   ]
  },
  {
   "cell_type": "code",
   "execution_count": 4,
   "metadata": {},
   "outputs": [
    {
     "name": "stdout",
     "output_type": "stream",
     "text": [
      "Node order Q: [0 1 3 4 5 2]\n",
      "\n",
      "Weight Matrix:\n",
      "[[0.  0.  0.  0.5 0.  0. ]\n",
      " [0.  0.  0.  0.3 0.  0. ]\n",
      " [0.  0.  0.  0.  0.  0. ]\n",
      " [0.  0.  0.  0.  1.  1. ]\n",
      " [0.  0.  0.4 0.  0.  0. ]\n",
      " [0.  0.  0.1 0.  0.  0. ]]\n"
     ]
    }
   ],
   "source": [
    "from neat_src.ann import getNodeOrder\n",
    "\n",
    "import numpy as np\n",
    "\n",
    "# Create a more complex network with multiple hidden nodes and connections\n",
    "nodeG = np.array([\n",
    "    [5, 6, 7, 8, 9, 10],     # Node IDs: 1 input, 1 bias, 1 output, 3 hidden\n",
    "    [1, 4, 2, 3, 3, 3],      # Node types: 5=input, 6=bias, 7=output, rest hidden\n",
    "    [1, 1, 1, 1, 1, 1]       # Activation functions (1 = linear)\n",
    "])\n",
    "\n",
    "connG = np.array([\n",
    "    [1, 2, 3, 4, 5, 6],      # Innovation numbers\n",
    "    [5, 6, 8, 9, 8, 10],     # Source nodes\n",
    "    [8, 8, 9, 7, 10, 7],     # Destination nodes\n",
    "    [0.5, 0.3, 0.2, 0.4, 0.6, 0.1],  # Weights\n",
    "    [1, 1, 1, 1, 1, 1]       # All enabled\n",
    "])\n",
    "\n",
    "# Test the function\n",
    "Q, wMat = getNodeOrder(nodeG, connG)\n",
    "print(\"Node order Q:\", Q)\n",
    "print(\"\\nWeight Matrix:\")\n",
    "print(wMat)"
   ]
  },
  {
   "cell_type": "code",
   "execution_count": 6,
   "metadata": {},
   "outputs": [
    {
     "data": {
      "text/plain": [
       "array([0., 0., 3., 1., 2., 2.])"
      ]
     },
     "execution_count": 6,
     "metadata": {},
     "output_type": "execute_result"
    }
   ],
   "source": [
    "from neat_src.ann import getLayer \n",
    "\n",
    "getLayer(wMat)"
   ]
  },
  {
   "cell_type": "code",
   "execution_count": 1,
   "metadata": {},
   "outputs": [],
   "source": [
    "from neat_src.ind import Ind \n",
    "\n",
    "import numpy as np\n",
    "\n",
    "# Create a more complex network with multiple hidden nodes and connections\n",
    "nodeG = np.array([\n",
    "    [5, 6, 7, 8, 9, 10],     # Node IDs: 1 input, 1 bias, 1 output, 3 hidden\n",
    "    [1, 4, 2, 3, 3, 3],      # Node types: 5=input, 6=bias, 7=output, rest hidden\n",
    "    [1, 1, 1, 1, 1, 1]       # Activation functions (1 = linear)\n",
    "])\n",
    "\n",
    "connG = np.array([\n",
    "    [1, 2, 3, 4, 5, 6],      # Innovation numbers\n",
    "    [5, 6, 8, 9, 8, 10],     # Source nodes\n",
    "    [8, 8, 9, 7, 10, 7],     # Destination nodes\n",
    "    [0.5, 0.3, 0.2, 0.4, 0.6, 0.1],  # Weights\n",
    "    [1, 1, 1, 1, 1, 1]       # All enabled\n",
    "])\n",
    "\n",
    "innov = np.array([\n",
    "    [1],      # Innovation Number\n",
    "    [5],      # Source node\n",
    "    [8],      # Destination node\n",
    "    [-1],     # New Node? (-1 indicates no new node)\n",
    "    [0]       # Generation evolved\n",
    "])\n",
    "\n",
    "individual = Ind(connG, nodeG)"
   ]
  },
  {
   "cell_type": "code",
   "execution_count": 7,
   "metadata": {},
   "outputs": [
    {
     "data": {
      "text/plain": [
       "(array([[ 1. ,  2. ,  3. ,  4. ,  5. ,  6. ,  2. ,  3. ],\n",
       "        [ 5. ,  6. ,  8. ,  9. ,  8. , 10. ,  9. ,  9. ],\n",
       "        [ 8. ,  8. ,  9. ,  7. , 10. ,  7. ,  9. ,  7. ],\n",
       "        [ 0.5,  0.3,  0.2,  0.4,  0.6,  0.1,  1. ,  0.4],\n",
       "        [ 1. ,  1. ,  1. ,  0. ,  1. ,  1. ,  1. ,  1. ]]),\n",
       " array([[ 5,  6,  7,  8,  9, 10,  9],\n",
       "        [ 1,  4,  2,  3,  3,  3,  3],\n",
       "        [ 1,  1,  1,  1,  1,  1,  1]]),\n",
       " array([[ 1.,  2.,  3.],\n",
       "        [ 5.,  9.,  9.],\n",
       "        [ 8.,  9.,  7.],\n",
       "        [-1.,  9., -1.],\n",
       "        [ 0.,  1.,  1.]]))"
      ]
     },
     "execution_count": 7,
     "metadata": {},
     "output_type": "execute_result"
    }
   ],
   "source": [
    "p = {\"ann_absWCap\": 0.5, \"ann_actRange\": [1, 2]}\n",
    "# individual.mutAddConn(connG, nodeG, innov, 1, p) # takes forever -- likely into infinite loop ... \n",
    "individual.mutAddNode(connG, nodeG, innov, 1, p)"
   ]
  },
  {
   "cell_type": "code",
   "execution_count": null,
   "metadata": {},
   "outputs": [],
   "source": []
  }
 ],
 "metadata": {
  "kernelspec": {
   "display_name": "volleyball",
   "language": "python",
   "name": "python3"
  },
  "language_info": {
   "codemirror_mode": {
    "name": "ipython",
    "version": 3
   },
   "file_extension": ".py",
   "mimetype": "text/x-python",
   "name": "python",
   "nbconvert_exporter": "python",
   "pygments_lexer": "ipython3",
   "version": "3.9.21"
  }
 },
 "nbformat": 4,
 "nbformat_minor": 2
}
